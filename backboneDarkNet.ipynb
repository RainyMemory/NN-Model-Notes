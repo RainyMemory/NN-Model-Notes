{
 "metadata": {
  "language_info": {
   "codemirror_mode": {
    "name": "ipython",
    "version": 3
   },
   "file_extension": ".py",
   "mimetype": "text/x-python",
   "name": "python",
   "nbconvert_exporter": "python",
   "pygments_lexer": "ipython3",
   "version": "3.6.8-final"
  },
  "orig_nbformat": 2,
  "kernelspec": {
   "name": "Python 3.6.8 64-bit ('envTensorFlow': conda)",
   "display_name": "Python 3.6.8 64-bit ('envTensorFlow': conda)",
   "metadata": {
    "interpreter": {
     "hash": "ef117510eeb4a22464bf884be075799e4233f63c6854f9d9e0da526e12594fce"
    }
   }
  }
 },
 "nbformat": 4,
 "nbformat_minor": 2,
 "cells": [
  {
   "source": [
    "# **Pytorch DarkNet implemention**\n",
    "- Simple pytorch implemention of DarkNet53 and DarkNet19"
   ],
   "cell_type": "markdown",
   "metadata": {}
  },
  {
   "cell_type": "code",
   "execution_count": 2,
   "metadata": {},
   "outputs": [],
   "source": [
    "import torch\n",
    "import torch.nn as nn "
   ]
  },
  {
   "source": [
    "---\n",
    "## Implement the conv layers of DarkNet\n",
    "- Each conv layer is followed by a bathnorm layer and leakyrelu activation layer"
   ],
   "cell_type": "markdown",
   "metadata": {}
  },
  {
   "cell_type": "code",
   "execution_count": 4,
   "metadata": {},
   "outputs": [],
   "source": [
    "def darkConv(in_dim, out_dim, kernel_size=3, stride=1, padding=1):\n",
    "    convLayer = nn.Sequential(\n",
    "        nn.Conv2d(in_dim, out_dim, kernel_size=kernel_size, stride=stride, padding=padding, bias=False)\n",
    "        nn.BatchNorm2d(out_dim)\n",
    "        nn.LeakyReLU()\n",
    "    )\n",
    "    return convLayer"
   ]
  },
  {
   "source": [
    "---\n",
    "\n",
    "## Implement the residual block\n",
    "- Different from ResNet, the dimension will not change after a matrix run through the residual block\n",
    "    - Thus no downsample function is needed here"
   ],
   "cell_type": "markdown",
   "metadata": {}
  },
  {
   "cell_type": "code",
   "execution_count": 5,
   "metadata": {},
   "outputs": [],
   "source": [
    "class ResidualBlock(nn.Module):\n",
    "\n",
    "    def __init__(self, in_dim):\n",
    "        super(ResidualBlock, self).__init__()\n",
    "        # the matrix will be compressed inside the blocks\n",
    "        self.dim_inside = in_dim // 2\n",
    "        # there is no need for downsampling: the number of planes will not change \n",
    "        self.conv1 = darkConv(in_dim, self.dim_inside, kernel_size=1, padding=0)\n",
    "        self.conv2 = darkConv(self.dim_inside, in_dim)\n",
    "    \n",
    "    def forward(self, x):\n",
    "        # keep the origin input\n",
    "        ori_in = x\n",
    "        # do the forward propagation\n",
    "        out = self.conv1(x)\n",
    "        out = self.conv2(out)\n",
    "        # complete the gradient flow\n",
    "        out += ori_in\n",
    "        return out"
   ]
  },
  {
   "source": [
    "---\n",
    "\n",
    "## Construct the DarkNet architecture\n",
    "- The DarkNet53 uses stride 2 to resize the feature matrix in each step\n",
    "- The DarkNet19 uses maxpooling to do this, while keeping its stride of conv layers to be 1"
   ],
   "cell_type": "markdown",
   "metadata": {}
  },
  {
   "cell_type": "code",
   "execution_count": 21,
   "metadata": {},
   "outputs": [],
   "source": [
    "class DarkNet(nn.Module):\n",
    "\n",
    "    def __init__(self, block, out_dim, block_num, max_pool=False):\n",
    "        super(DarkNet, self).__init__()\n",
    "        dim_list = [32, 64, 128, 256, 512, 1024]\n",
    "        # instead of stride 2, darknet19 use maxpool to resize the feature matrix\n",
    "        self.max_pool = max_pool\n",
    "        # first conv layer, input is images\n",
    "        self.conv = darkConv(3, dim_list[0])\n",
    "        # enter the residual blocks\n",
    "        self.resblock1 = self._mack_layers(block, block_dim=dim_list[1], block_num=block_num[0])\n",
    "        self.resblock2 = self._mack_layers(block, block_dim=dim_list[2], block_num=block_num[1])\n",
    "        self.resblock3 = self._mack_layers(block, block_dim=dim_list[3], block_num=block_num[2])\n",
    "        self.resblock4 = self._mack_layers(block, block_dim=dim_list[4], block_num=block_num[3])\n",
    "        self.resblock5 = self._mack_layers(block, block_dim=dim_list[5], block_num=block_num[4])\n",
    "        # do the avg pooling and fc layer\n",
    "        self.global_avgpool = nn.AdaptiveAvgPool2d((1, 1))\n",
    "        self.fc = nn.Linear(dim_list[5], out_dim)\n",
    "        \n",
    "    def _mack_layers(self, block, block_dim, block_num):\n",
    "        layers = []\n",
    "        # darknet19 uses stride 1 and darknet53 uses stride 2\n",
    "        if self.max_pool:\n",
    "            # resize the feature matrix by maxpooling\n",
    "            layers.append(nn.MaxPool2d(kernel_size=2, stride=2))\n",
    "            layers.append(darkConv(block_dim // 2, block_dim))\n",
    "        else:\n",
    "            layers.append(darkConv(block_dim // 2, block_dim, stride=2))\n",
    "        for _ in range(block_num):\n",
    "            # the residual blocks do not change the dim\n",
    "            layers.append(block(block_dim))\n",
    "        return nn.Sequential(*layers)\n",
    "\n",
    "    def forward(self, x):\n",
    "        # forward propagation\n",
    "        out = self.conv1(x)\n",
    "        out = self.residual_block1(out)\n",
    "        out = self.residual_block2(out)\n",
    "        out = self.residual_block3(out)\n",
    "        out = self.residual_block4(out)\n",
    "        out = self.residual_block5(out)\n",
    "        out = self.global_avg_pool(out)\n",
    "        # flatten the whole matrix into 1 dim\n",
    "        out = torch.flatten(out)\n",
    "        out = self.fc(out)\n",
    "        return out"
   ]
  },
  {
   "source": [
    "---\n",
    "\n",
    "## Create DarkNet19 and DarkNet53\n",
    "- DarkNet53: 1 + 5 * 1 + 2 * (1 + 2 + 8 + 8 + 4) + 1 = 53\n",
    "- DarkNet19: 1 + 5 * 1 + 2 * (0 + 1 + 1 + 2 + 2) + 1 = 19\n",
    "- Small object detection:\n",
    "    - Shallow networks are reported to have better performaces\n",
    "    - Max pooling layers really hurt the features of the small objects\n",
    "    - Wonder if DarkNet19 without max pooling layers can have a good performace on this task"
   ],
   "cell_type": "markdown",
   "metadata": {}
  },
  {
   "cell_type": "code",
   "execution_count": 24,
   "metadata": {},
   "outputs": [],
   "source": [
    "def darkNet53(out_dim):\n",
    "    return DarkNet(ResidualBlock, out_dim, block_num=[1, 2, 8, 8, 4])\n",
    "\n",
    "def darkNet19(out_dim):\n",
    "    return DarkNet(ResidualBlock, out_dim, block_num=[0, 1, 1, 2, 2], max_pool=True)\n",
    "\n",
    "# use stride 2 to reduce the dimension instead of maxpooling\n",
    "def darkNet19NoMaxPool(out_dim):\n",
    "    return DarkNet(ResidualBlock, out_dim, block_num=[0, 1, 1, 2, 2])"
   ]
  },
  {
   "source": [
    "---\n",
    "\n",
    "## Check the structure of the networks"
   ],
   "cell_type": "markdown",
   "metadata": {}
  },
  {
   "cell_type": "code",
   "execution_count": 18,
   "metadata": {},
   "outputs": [
    {
     "output_type": "stream",
     "name": "stdout",
     "text": [
      "DarkNet(\n  (conv): Sequential(\n    (0): Conv2d(3, 32, kernel_size=(3, 3), stride=(1, 1), padding=(1, 1), bias=False)\n    (1): BatchNorm2d(32, eps=1e-05, momentum=0.1, affine=True, track_running_stats=True)\n    (2): LeakyReLU(negative_slope=0.01)\n  )\n  (resblock1): Sequential(\n    (0): Sequential(\n      (0): Conv2d(32, 64, kernel_size=(3, 3), stride=(2, 2), padding=(1, 1), bias=False)\n      (1): BatchNorm2d(64, eps=1e-05, momentum=0.1, affine=True, track_running_stats=True)\n      (2): LeakyReLU(negative_slope=0.01)\n    )\n    (1): ResidualBlock(\n      (conv1): Sequential(\n        (0): Conv2d(64, 32, kernel_size=(1, 1), stride=(1, 1), bias=False)\n        (1): BatchNorm2d(32, eps=1e-05, momentum=0.1, affine=True, track_running_stats=True)\n        (2): LeakyReLU(negative_slope=0.01)\n      )\n      (conv2): Sequential(\n        (0): Conv2d(32, 64, kernel_size=(3, 3), stride=(1, 1), padding=(1, 1), bias=False)\n        (1): BatchNorm2d(64, eps=1e-05, momentum=0.1, affine=True, track_running_stats=True)\n        (2): LeakyReLU(negative_slope=0.01)\n      )\n    )\n  )\n  (resblock2): Sequential(\n    (0): Sequential(\n      (0): Conv2d(64, 128, kernel_size=(3, 3), stride=(2, 2), padding=(1, 1), bias=False)\n      (1): BatchNorm2d(128, eps=1e-05, momentum=0.1, affine=True, track_running_stats=True)\n      (2): LeakyReLU(negative_slope=0.01)\n    )\n    (1): ResidualBlock(\n      (conv1): Sequential(\n        (0): Conv2d(128, 64, kernel_size=(1, 1), stride=(1, 1), bias=False)\n        (1): BatchNorm2d(64, eps=1e-05, momentum=0.1, affine=True, track_running_stats=True)\n        (2): LeakyReLU(negative_slope=0.01)\n      )\n      (conv2): Sequential(\n        (0): Conv2d(64, 128, kernel_size=(3, 3), stride=(1, 1), padding=(1, 1), bias=False)\n        (1): BatchNorm2d(128, eps=1e-05, momentum=0.1, affine=True, track_running_stats=True)\n        (2): LeakyReLU(negative_slope=0.01)\n      )\n    )\n    (2): ResidualBlock(\n      (conv1): Sequential(\n        (0): Conv2d(128, 64, kernel_size=(1, 1), stride=(1, 1), bias=False)\n        (1): BatchNorm2d(64, eps=1e-05, momentum=0.1, affine=True, track_running_stats=True)\n        (2): LeakyReLU(negative_slope=0.01)\n      )\n      (conv2): Sequential(\n        (0): Conv2d(64, 128, kernel_size=(3, 3), stride=(1, 1), padding=(1, 1), bias=False)\n        (1): BatchNorm2d(128, eps=1e-05, momentum=0.1, affine=True, track_running_stats=True)\n        (2): LeakyReLU(negative_slope=0.01)\n      )\n    )\n  )\n  (resblock3): Sequential(\n    (0): Sequential(\n      (0): Conv2d(128, 256, kernel_size=(3, 3), stride=(2, 2), padding=(1, 1), bias=False)\n      (1): BatchNorm2d(256, eps=1e-05, momentum=0.1, affine=True, track_running_stats=True)\n      (2): LeakyReLU(negative_slope=0.01)\n    )\n    (1): ResidualBlock(\n      (conv1): Sequential(\n        (0): Conv2d(256, 128, kernel_size=(1, 1), stride=(1, 1), bias=False)\n        (1): BatchNorm2d(128, eps=1e-05, momentum=0.1, affine=True, track_running_stats=True)\n        (2): LeakyReLU(negative_slope=0.01)\n      )\n      (conv2): Sequential(\n        (0): Conv2d(128, 256, kernel_size=(3, 3), stride=(1, 1), padding=(1, 1), bias=False)\n        (1): BatchNorm2d(256, eps=1e-05, momentum=0.1, affine=True, track_running_stats=True)\n        (2): LeakyReLU(negative_slope=0.01)\n      )\n    )\n    (2): ResidualBlock(\n      (conv1): Sequential(\n        (0): Conv2d(256, 128, kernel_size=(1, 1), stride=(1, 1), bias=False)\n        (1): BatchNorm2d(128, eps=1e-05, momentum=0.1, affine=True, track_running_stats=True)\n        (2): LeakyReLU(negative_slope=0.01)\n      )\n      (conv2): Sequential(\n        (0): Conv2d(128, 256, kernel_size=(3, 3), stride=(1, 1), padding=(1, 1), bias=False)\n        (1): BatchNorm2d(256, eps=1e-05, momentum=0.1, affine=True, track_running_stats=True)\n        (2): LeakyReLU(negative_slope=0.01)\n      )\n    )\n    (3): ResidualBlock(\n      (conv1): Sequential(\n        (0): Conv2d(256, 128, kernel_size=(1, 1), stride=(1, 1), bias=False)\n        (1): BatchNorm2d(128, eps=1e-05, momentum=0.1, affine=True, track_running_stats=True)\n        (2): LeakyReLU(negative_slope=0.01)\n      )\n      (conv2): Sequential(\n        (0): Conv2d(128, 256, kernel_size=(3, 3), stride=(1, 1), padding=(1, 1), bias=False)\n        (1): BatchNorm2d(256, eps=1e-05, momentum=0.1, affine=True, track_running_stats=True)\n        (2): LeakyReLU(negative_slope=0.01)\n      )\n    )\n    (4): ResidualBlock(\n      (conv1): Sequential(\n        (0): Conv2d(256, 128, kernel_size=(1, 1), stride=(1, 1), bias=False)\n        (1): BatchNorm2d(128, eps=1e-05, momentum=0.1, affine=True, track_running_stats=True)\n        (2): LeakyReLU(negative_slope=0.01)\n      )\n      (conv2): Sequential(\n        (0): Conv2d(128, 256, kernel_size=(3, 3), stride=(1, 1), padding=(1, 1), bias=False)\n        (1): BatchNorm2d(256, eps=1e-05, momentum=0.1, affine=True, track_running_stats=True)\n        (2): LeakyReLU(negative_slope=0.01)\n      )\n    )\n    (5): ResidualBlock(\n      (conv1): Sequential(\n        (0): Conv2d(256, 128, kernel_size=(1, 1), stride=(1, 1), bias=False)\n        (1): BatchNorm2d(128, eps=1e-05, momentum=0.1, affine=True, track_running_stats=True)\n        (2): LeakyReLU(negative_slope=0.01)\n      )\n      (conv2): Sequential(\n        (0): Conv2d(128, 256, kernel_size=(3, 3), stride=(1, 1), padding=(1, 1), bias=False)\n        (1): BatchNorm2d(256, eps=1e-05, momentum=0.1, affine=True, track_running_stats=True)\n        (2): LeakyReLU(negative_slope=0.01)\n      )\n    )\n    (6): ResidualBlock(\n      (conv1): Sequential(\n        (0): Conv2d(256, 128, kernel_size=(1, 1), stride=(1, 1), bias=False)\n        (1): BatchNorm2d(128, eps=1e-05, momentum=0.1, affine=True, track_running_stats=True)\n        (2): LeakyReLU(negative_slope=0.01)\n      )\n      (conv2): Sequential(\n        (0): Conv2d(128, 256, kernel_size=(3, 3), stride=(1, 1), padding=(1, 1), bias=False)\n        (1): BatchNorm2d(256, eps=1e-05, momentum=0.1, affine=True, track_running_stats=True)\n        (2): LeakyReLU(negative_slope=0.01)\n      )\n    )\n    (7): ResidualBlock(\n      (conv1): Sequential(\n        (0): Conv2d(256, 128, kernel_size=(1, 1), stride=(1, 1), bias=False)\n        (1): BatchNorm2d(128, eps=1e-05, momentum=0.1, affine=True, track_running_stats=True)\n        (2): LeakyReLU(negative_slope=0.01)\n      )\n      (conv2): Sequential(\n        (0): Conv2d(128, 256, kernel_size=(3, 3), stride=(1, 1), padding=(1, 1), bias=False)\n        (1): BatchNorm2d(256, eps=1e-05, momentum=0.1, affine=True, track_running_stats=True)\n        (2): LeakyReLU(negative_slope=0.01)\n      )\n    )\n    (8): ResidualBlock(\n      (conv1): Sequential(\n        (0): Conv2d(256, 128, kernel_size=(1, 1), stride=(1, 1), bias=False)\n        (1): BatchNorm2d(128, eps=1e-05, momentum=0.1, affine=True, track_running_stats=True)\n        (2): LeakyReLU(negative_slope=0.01)\n      )\n      (conv2): Sequential(\n        (0): Conv2d(128, 256, kernel_size=(3, 3), stride=(1, 1), padding=(1, 1), bias=False)\n        (1): BatchNorm2d(256, eps=1e-05, momentum=0.1, affine=True, track_running_stats=True)\n        (2): LeakyReLU(negative_slope=0.01)\n      )\n    )\n  )\n  (resblock4): Sequential(\n    (0): Sequential(\n      (0): Conv2d(256, 512, kernel_size=(3, 3), stride=(2, 2), padding=(1, 1), bias=False)\n      (1): BatchNorm2d(512, eps=1e-05, momentum=0.1, affine=True, track_running_stats=True)\n      (2): LeakyReLU(negative_slope=0.01)\n    )\n    (1): ResidualBlock(\n      (conv1): Sequential(\n        (0): Conv2d(512, 256, kernel_size=(1, 1), stride=(1, 1), bias=False)\n        (1): BatchNorm2d(256, eps=1e-05, momentum=0.1, affine=True, track_running_stats=True)\n        (2): LeakyReLU(negative_slope=0.01)\n      )\n      (conv2): Sequential(\n        (0): Conv2d(256, 512, kernel_size=(3, 3), stride=(1, 1), padding=(1, 1), bias=False)\n        (1): BatchNorm2d(512, eps=1e-05, momentum=0.1, affine=True, track_running_stats=True)\n        (2): LeakyReLU(negative_slope=0.01)\n      )\n    )\n    (2): ResidualBlock(\n      (conv1): Sequential(\n        (0): Conv2d(512, 256, kernel_size=(1, 1), stride=(1, 1), bias=False)\n        (1): BatchNorm2d(256, eps=1e-05, momentum=0.1, affine=True, track_running_stats=True)\n        (2): LeakyReLU(negative_slope=0.01)\n      )\n      (conv2): Sequential(\n        (0): Conv2d(256, 512, kernel_size=(3, 3), stride=(1, 1), padding=(1, 1), bias=False)\n        (1): BatchNorm2d(512, eps=1e-05, momentum=0.1, affine=True, track_running_stats=True)\n        (2): LeakyReLU(negative_slope=0.01)\n      )\n    )\n    (3): ResidualBlock(\n      (conv1): Sequential(\n        (0): Conv2d(512, 256, kernel_size=(1, 1), stride=(1, 1), bias=False)\n        (1): BatchNorm2d(256, eps=1e-05, momentum=0.1, affine=True, track_running_stats=True)\n        (2): LeakyReLU(negative_slope=0.01)\n      )\n      (conv2): Sequential(\n        (0): Conv2d(256, 512, kernel_size=(3, 3), stride=(1, 1), padding=(1, 1), bias=False)\n        (1): BatchNorm2d(512, eps=1e-05, momentum=0.1, affine=True, track_running_stats=True)\n        (2): LeakyReLU(negative_slope=0.01)\n      )\n    )\n    (4): ResidualBlock(\n      (conv1): Sequential(\n        (0): Conv2d(512, 256, kernel_size=(1, 1), stride=(1, 1), bias=False)\n        (1): BatchNorm2d(256, eps=1e-05, momentum=0.1, affine=True, track_running_stats=True)\n        (2): LeakyReLU(negative_slope=0.01)\n      )\n      (conv2): Sequential(\n        (0): Conv2d(256, 512, kernel_size=(3, 3), stride=(1, 1), padding=(1, 1), bias=False)\n        (1): BatchNorm2d(512, eps=1e-05, momentum=0.1, affine=True, track_running_stats=True)\n        (2): LeakyReLU(negative_slope=0.01)\n      )\n    )\n    (5): ResidualBlock(\n      (conv1): Sequential(\n        (0): Conv2d(512, 256, kernel_size=(1, 1), stride=(1, 1), bias=False)\n        (1): BatchNorm2d(256, eps=1e-05, momentum=0.1, affine=True, track_running_stats=True)\n        (2): LeakyReLU(negative_slope=0.01)\n      )\n      (conv2): Sequential(\n        (0): Conv2d(256, 512, kernel_size=(3, 3), stride=(1, 1), padding=(1, 1), bias=False)\n        (1): BatchNorm2d(512, eps=1e-05, momentum=0.1, affine=True, track_running_stats=True)\n        (2): LeakyReLU(negative_slope=0.01)\n      )\n    )\n    (6): ResidualBlock(\n      (conv1): Sequential(\n        (0): Conv2d(512, 256, kernel_size=(1, 1), stride=(1, 1), bias=False)\n        (1): BatchNorm2d(256, eps=1e-05, momentum=0.1, affine=True, track_running_stats=True)\n        (2): LeakyReLU(negative_slope=0.01)\n      )\n      (conv2): Sequential(\n        (0): Conv2d(256, 512, kernel_size=(3, 3), stride=(1, 1), padding=(1, 1), bias=False)\n        (1): BatchNorm2d(512, eps=1e-05, momentum=0.1, affine=True, track_running_stats=True)\n        (2): LeakyReLU(negative_slope=0.01)\n      )\n    )\n    (7): ResidualBlock(\n      (conv1): Sequential(\n        (0): Conv2d(512, 256, kernel_size=(1, 1), stride=(1, 1), bias=False)\n        (1): BatchNorm2d(256, eps=1e-05, momentum=0.1, affine=True, track_running_stats=True)\n        (2): LeakyReLU(negative_slope=0.01)\n      )\n      (conv2): Sequential(\n        (0): Conv2d(256, 512, kernel_size=(3, 3), stride=(1, 1), padding=(1, 1), bias=False)\n        (1): BatchNorm2d(512, eps=1e-05, momentum=0.1, affine=True, track_running_stats=True)\n        (2): LeakyReLU(negative_slope=0.01)\n      )\n    )\n    (8): ResidualBlock(\n      (conv1): Sequential(\n        (0): Conv2d(512, 256, kernel_size=(1, 1), stride=(1, 1), bias=False)\n        (1): BatchNorm2d(256, eps=1e-05, momentum=0.1, affine=True, track_running_stats=True)\n        (2): LeakyReLU(negative_slope=0.01)\n      )\n      (conv2): Sequential(\n        (0): Conv2d(256, 512, kernel_size=(3, 3), stride=(1, 1), padding=(1, 1), bias=False)\n        (1): BatchNorm2d(512, eps=1e-05, momentum=0.1, affine=True, track_running_stats=True)\n        (2): LeakyReLU(negative_slope=0.01)\n      )\n    )\n  )\n  (resblock5): Sequential(\n    (0): Sequential(\n      (0): Conv2d(512, 1024, kernel_size=(3, 3), stride=(2, 2), padding=(1, 1), bias=False)\n      (1): BatchNorm2d(1024, eps=1e-05, momentum=0.1, affine=True, track_running_stats=True)\n      (2): LeakyReLU(negative_slope=0.01)\n    )\n    (1): ResidualBlock(\n      (conv1): Sequential(\n        (0): Conv2d(1024, 512, kernel_size=(1, 1), stride=(1, 1), bias=False)\n        (1): BatchNorm2d(512, eps=1e-05, momentum=0.1, affine=True, track_running_stats=True)\n        (2): LeakyReLU(negative_slope=0.01)\n      )\n      (conv2): Sequential(\n        (0): Conv2d(512, 1024, kernel_size=(3, 3), stride=(1, 1), padding=(1, 1), bias=False)\n        (1): BatchNorm2d(1024, eps=1e-05, momentum=0.1, affine=True, track_running_stats=True)\n        (2): LeakyReLU(negative_slope=0.01)\n      )\n    )\n    (2): ResidualBlock(\n      (conv1): Sequential(\n        (0): Conv2d(1024, 512, kernel_size=(1, 1), stride=(1, 1), bias=False)\n        (1): BatchNorm2d(512, eps=1e-05, momentum=0.1, affine=True, track_running_stats=True)\n        (2): LeakyReLU(negative_slope=0.01)\n      )\n      (conv2): Sequential(\n        (0): Conv2d(512, 1024, kernel_size=(3, 3), stride=(1, 1), padding=(1, 1), bias=False)\n        (1): BatchNorm2d(1024, eps=1e-05, momentum=0.1, affine=True, track_running_stats=True)\n        (2): LeakyReLU(negative_slope=0.01)\n      )\n    )\n    (3): ResidualBlock(\n      (conv1): Sequential(\n        (0): Conv2d(1024, 512, kernel_size=(1, 1), stride=(1, 1), bias=False)\n        (1): BatchNorm2d(512, eps=1e-05, momentum=0.1, affine=True, track_running_stats=True)\n        (2): LeakyReLU(negative_slope=0.01)\n      )\n      (conv2): Sequential(\n        (0): Conv2d(512, 1024, kernel_size=(3, 3), stride=(1, 1), padding=(1, 1), bias=False)\n        (1): BatchNorm2d(1024, eps=1e-05, momentum=0.1, affine=True, track_running_stats=True)\n        (2): LeakyReLU(negative_slope=0.01)\n      )\n    )\n    (4): ResidualBlock(\n      (conv1): Sequential(\n        (0): Conv2d(1024, 512, kernel_size=(1, 1), stride=(1, 1), bias=False)\n        (1): BatchNorm2d(512, eps=1e-05, momentum=0.1, affine=True, track_running_stats=True)\n        (2): LeakyReLU(negative_slope=0.01)\n      )\n      (conv2): Sequential(\n        (0): Conv2d(512, 1024, kernel_size=(3, 3), stride=(1, 1), padding=(1, 1), bias=False)\n        (1): BatchNorm2d(1024, eps=1e-05, momentum=0.1, affine=True, track_running_stats=True)\n        (2): LeakyReLU(negative_slope=0.01)\n      )\n    )\n  )\n  (global_avgpool): AdaptiveAvgPool2d(output_size=(1, 1))\n  (fc): Linear(in_features=1024, out_features=1000, bias=True)\n)\n"
     ]
    }
   ],
   "source": [
    "mynet = darkNet53(1000)\n",
    "print(mynet)"
   ]
  },
  {
   "cell_type": "code",
   "execution_count": 22,
   "metadata": {},
   "outputs": [
    {
     "output_type": "stream",
     "name": "stdout",
     "text": [
      "DarkNet(\n  (conv): Sequential(\n    (0): Conv2d(3, 32, kernel_size=(3, 3), stride=(1, 1), padding=(1, 1), bias=False)\n    (1): BatchNorm2d(32, eps=1e-05, momentum=0.1, affine=True, track_running_stats=True)\n    (2): LeakyReLU(negative_slope=0.01)\n  )\n  (resblock1): Sequential(\n    (0): MaxPool2d(kernel_size=2, stride=2, padding=0, dilation=1, ceil_mode=False)\n    (1): Sequential(\n      (0): Conv2d(32, 64, kernel_size=(3, 3), stride=(1, 1), padding=(1, 1), bias=False)\n      (1): BatchNorm2d(64, eps=1e-05, momentum=0.1, affine=True, track_running_stats=True)\n      (2): LeakyReLU(negative_slope=0.01)\n    )\n  )\n  (resblock2): Sequential(\n    (0): MaxPool2d(kernel_size=2, stride=2, padding=0, dilation=1, ceil_mode=False)\n    (1): Sequential(\n      (0): Conv2d(64, 128, kernel_size=(3, 3), stride=(1, 1), padding=(1, 1), bias=False)\n      (1): BatchNorm2d(128, eps=1e-05, momentum=0.1, affine=True, track_running_stats=True)\n      (2): LeakyReLU(negative_slope=0.01)\n    )\n    (2): ResidualBlock(\n      (conv1): Sequential(\n        (0): Conv2d(128, 64, kernel_size=(1, 1), stride=(1, 1), bias=False)\n        (1): BatchNorm2d(64, eps=1e-05, momentum=0.1, affine=True, track_running_stats=True)\n        (2): LeakyReLU(negative_slope=0.01)\n      )\n      (conv2): Sequential(\n        (0): Conv2d(64, 128, kernel_size=(3, 3), stride=(1, 1), padding=(1, 1), bias=False)\n        (1): BatchNorm2d(128, eps=1e-05, momentum=0.1, affine=True, track_running_stats=True)\n        (2): LeakyReLU(negative_slope=0.01)\n      )\n    )\n  )\n  (resblock3): Sequential(\n    (0): MaxPool2d(kernel_size=2, stride=2, padding=0, dilation=1, ceil_mode=False)\n    (1): Sequential(\n      (0): Conv2d(128, 256, kernel_size=(3, 3), stride=(1, 1), padding=(1, 1), bias=False)\n      (1): BatchNorm2d(256, eps=1e-05, momentum=0.1, affine=True, track_running_stats=True)\n      (2): LeakyReLU(negative_slope=0.01)\n    )\n    (2): ResidualBlock(\n      (conv1): Sequential(\n        (0): Conv2d(256, 128, kernel_size=(1, 1), stride=(1, 1), bias=False)\n        (1): BatchNorm2d(128, eps=1e-05, momentum=0.1, affine=True, track_running_stats=True)\n        (2): LeakyReLU(negative_slope=0.01)\n      )\n      (conv2): Sequential(\n        (0): Conv2d(128, 256, kernel_size=(3, 3), stride=(1, 1), padding=(1, 1), bias=False)\n        (1): BatchNorm2d(256, eps=1e-05, momentum=0.1, affine=True, track_running_stats=True)\n        (2): LeakyReLU(negative_slope=0.01)\n      )\n    )\n  )\n  (resblock4): Sequential(\n    (0): MaxPool2d(kernel_size=2, stride=2, padding=0, dilation=1, ceil_mode=False)\n    (1): Sequential(\n      (0): Conv2d(256, 512, kernel_size=(3, 3), stride=(1, 1), padding=(1, 1), bias=False)\n      (1): BatchNorm2d(512, eps=1e-05, momentum=0.1, affine=True, track_running_stats=True)\n      (2): LeakyReLU(negative_slope=0.01)\n    )\n    (2): ResidualBlock(\n      (conv1): Sequential(\n        (0): Conv2d(512, 256, kernel_size=(1, 1), stride=(1, 1), bias=False)\n        (1): BatchNorm2d(256, eps=1e-05, momentum=0.1, affine=True, track_running_stats=True)\n        (2): LeakyReLU(negative_slope=0.01)\n      )\n      (conv2): Sequential(\n        (0): Conv2d(256, 512, kernel_size=(3, 3), stride=(1, 1), padding=(1, 1), bias=False)\n        (1): BatchNorm2d(512, eps=1e-05, momentum=0.1, affine=True, track_running_stats=True)\n        (2): LeakyReLU(negative_slope=0.01)\n      )\n    )\n    (3): ResidualBlock(\n      (conv1): Sequential(\n        (0): Conv2d(512, 256, kernel_size=(1, 1), stride=(1, 1), bias=False)\n        (1): BatchNorm2d(256, eps=1e-05, momentum=0.1, affine=True, track_running_stats=True)\n        (2): LeakyReLU(negative_slope=0.01)\n      )\n      (conv2): Sequential(\n        (0): Conv2d(256, 512, kernel_size=(3, 3), stride=(1, 1), padding=(1, 1), bias=False)\n        (1): BatchNorm2d(512, eps=1e-05, momentum=0.1, affine=True, track_running_stats=True)\n        (2): LeakyReLU(negative_slope=0.01)\n      )\n    )\n  )\n  (resblock5): Sequential(\n    (0): MaxPool2d(kernel_size=2, stride=2, padding=0, dilation=1, ceil_mode=False)\n    (1): Sequential(\n      (0): Conv2d(512, 1024, kernel_size=(3, 3), stride=(1, 1), padding=(1, 1), bias=False)\n      (1): BatchNorm2d(1024, eps=1e-05, momentum=0.1, affine=True, track_running_stats=True)\n      (2): LeakyReLU(negative_slope=0.01)\n    )\n    (2): ResidualBlock(\n      (conv1): Sequential(\n        (0): Conv2d(1024, 512, kernel_size=(1, 1), stride=(1, 1), bias=False)\n        (1): BatchNorm2d(512, eps=1e-05, momentum=0.1, affine=True, track_running_stats=True)\n        (2): LeakyReLU(negative_slope=0.01)\n      )\n      (conv2): Sequential(\n        (0): Conv2d(512, 1024, kernel_size=(3, 3), stride=(1, 1), padding=(1, 1), bias=False)\n        (1): BatchNorm2d(1024, eps=1e-05, momentum=0.1, affine=True, track_running_stats=True)\n        (2): LeakyReLU(negative_slope=0.01)\n      )\n    )\n    (3): ResidualBlock(\n      (conv1): Sequential(\n        (0): Conv2d(1024, 512, kernel_size=(1, 1), stride=(1, 1), bias=False)\n        (1): BatchNorm2d(512, eps=1e-05, momentum=0.1, affine=True, track_running_stats=True)\n        (2): LeakyReLU(negative_slope=0.01)\n      )\n      (conv2): Sequential(\n        (0): Conv2d(512, 1024, kernel_size=(3, 3), stride=(1, 1), padding=(1, 1), bias=False)\n        (1): BatchNorm2d(1024, eps=1e-05, momentum=0.1, affine=True, track_running_stats=True)\n        (2): LeakyReLU(negative_slope=0.01)\n      )\n    )\n  )\n  (global_avgpool): AdaptiveAvgPool2d(output_size=(1, 1))\n  (fc): Linear(in_features=1024, out_features=800, bias=True)\n)\n"
     ]
    }
   ],
   "source": [
    "mynet = darkNet19(800)\n",
    "print(mynet)"
   ]
  },
  {
   "cell_type": "code",
   "execution_count": 25,
   "metadata": {},
   "outputs": [
    {
     "output_type": "stream",
     "name": "stdout",
     "text": [
      "DarkNet(\n  (conv): Sequential(\n    (0): Conv2d(3, 32, kernel_size=(3, 3), stride=(1, 1), padding=(1, 1), bias=False)\n    (1): BatchNorm2d(32, eps=1e-05, momentum=0.1, affine=True, track_running_stats=True)\n    (2): LeakyReLU(negative_slope=0.01)\n  )\n  (resblock1): Sequential(\n    (0): Sequential(\n      (0): Conv2d(32, 64, kernel_size=(3, 3), stride=(2, 2), padding=(1, 1), bias=False)\n      (1): BatchNorm2d(64, eps=1e-05, momentum=0.1, affine=True, track_running_stats=True)\n      (2): LeakyReLU(negative_slope=0.01)\n    )\n  )\n  (resblock2): Sequential(\n    (0): Sequential(\n      (0): Conv2d(64, 128, kernel_size=(3, 3), stride=(2, 2), padding=(1, 1), bias=False)\n      (1): BatchNorm2d(128, eps=1e-05, momentum=0.1, affine=True, track_running_stats=True)\n      (2): LeakyReLU(negative_slope=0.01)\n    )\n    (1): ResidualBlock(\n      (conv1): Sequential(\n        (0): Conv2d(128, 64, kernel_size=(1, 1), stride=(1, 1), bias=False)\n        (1): BatchNorm2d(64, eps=1e-05, momentum=0.1, affine=True, track_running_stats=True)\n        (2): LeakyReLU(negative_slope=0.01)\n      )\n      (conv2): Sequential(\n        (0): Conv2d(64, 128, kernel_size=(3, 3), stride=(1, 1), padding=(1, 1), bias=False)\n        (1): BatchNorm2d(128, eps=1e-05, momentum=0.1, affine=True, track_running_stats=True)\n        (2): LeakyReLU(negative_slope=0.01)\n      )\n    )\n  )\n  (resblock3): Sequential(\n    (0): Sequential(\n      (0): Conv2d(128, 256, kernel_size=(3, 3), stride=(2, 2), padding=(1, 1), bias=False)\n      (1): BatchNorm2d(256, eps=1e-05, momentum=0.1, affine=True, track_running_stats=True)\n      (2): LeakyReLU(negative_slope=0.01)\n    )\n    (1): ResidualBlock(\n      (conv1): Sequential(\n        (0): Conv2d(256, 128, kernel_size=(1, 1), stride=(1, 1), bias=False)\n        (1): BatchNorm2d(128, eps=1e-05, momentum=0.1, affine=True, track_running_stats=True)\n        (2): LeakyReLU(negative_slope=0.01)\n      )\n      (conv2): Sequential(\n        (0): Conv2d(128, 256, kernel_size=(3, 3), stride=(1, 1), padding=(1, 1), bias=False)\n        (1): BatchNorm2d(256, eps=1e-05, momentum=0.1, affine=True, track_running_stats=True)\n        (2): LeakyReLU(negative_slope=0.01)\n      )\n    )\n  )\n  (resblock4): Sequential(\n    (0): Sequential(\n      (0): Conv2d(256, 512, kernel_size=(3, 3), stride=(2, 2), padding=(1, 1), bias=False)\n      (1): BatchNorm2d(512, eps=1e-05, momentum=0.1, affine=True, track_running_stats=True)\n      (2): LeakyReLU(negative_slope=0.01)\n    )\n    (1): ResidualBlock(\n      (conv1): Sequential(\n        (0): Conv2d(512, 256, kernel_size=(1, 1), stride=(1, 1), bias=False)\n        (1): BatchNorm2d(256, eps=1e-05, momentum=0.1, affine=True, track_running_stats=True)\n        (2): LeakyReLU(negative_slope=0.01)\n      )\n      (conv2): Sequential(\n        (0): Conv2d(256, 512, kernel_size=(3, 3), stride=(1, 1), padding=(1, 1), bias=False)\n        (1): BatchNorm2d(512, eps=1e-05, momentum=0.1, affine=True, track_running_stats=True)\n        (2): LeakyReLU(negative_slope=0.01)\n      )\n    )\n    (2): ResidualBlock(\n      (conv1): Sequential(\n        (0): Conv2d(512, 256, kernel_size=(1, 1), stride=(1, 1), bias=False)\n        (1): BatchNorm2d(256, eps=1e-05, momentum=0.1, affine=True, track_running_stats=True)\n        (2): LeakyReLU(negative_slope=0.01)\n      )\n      (conv2): Sequential(\n        (0): Conv2d(256, 512, kernel_size=(3, 3), stride=(1, 1), padding=(1, 1), bias=False)\n        (1): BatchNorm2d(512, eps=1e-05, momentum=0.1, affine=True, track_running_stats=True)\n        (2): LeakyReLU(negative_slope=0.01)\n      )\n    )\n  )\n  (resblock5): Sequential(\n    (0): Sequential(\n      (0): Conv2d(512, 1024, kernel_size=(3, 3), stride=(2, 2), padding=(1, 1), bias=False)\n      (1): BatchNorm2d(1024, eps=1e-05, momentum=0.1, affine=True, track_running_stats=True)\n      (2): LeakyReLU(negative_slope=0.01)\n    )\n    (1): ResidualBlock(\n      (conv1): Sequential(\n        (0): Conv2d(1024, 512, kernel_size=(1, 1), stride=(1, 1), bias=False)\n        (1): BatchNorm2d(512, eps=1e-05, momentum=0.1, affine=True, track_running_stats=True)\n        (2): LeakyReLU(negative_slope=0.01)\n      )\n      (conv2): Sequential(\n        (0): Conv2d(512, 1024, kernel_size=(3, 3), stride=(1, 1), padding=(1, 1), bias=False)\n        (1): BatchNorm2d(1024, eps=1e-05, momentum=0.1, affine=True, track_running_stats=True)\n        (2): LeakyReLU(negative_slope=0.01)\n      )\n    )\n    (2): ResidualBlock(\n      (conv1): Sequential(\n        (0): Conv2d(1024, 512, kernel_size=(1, 1), stride=(1, 1), bias=False)\n        (1): BatchNorm2d(512, eps=1e-05, momentum=0.1, affine=True, track_running_stats=True)\n        (2): LeakyReLU(negative_slope=0.01)\n      )\n      (conv2): Sequential(\n        (0): Conv2d(512, 1024, kernel_size=(3, 3), stride=(1, 1), padding=(1, 1), bias=False)\n        (1): BatchNorm2d(1024, eps=1e-05, momentum=0.1, affine=True, track_running_stats=True)\n        (2): LeakyReLU(negative_slope=0.01)\n      )\n    )\n  )\n  (global_avgpool): AdaptiveAvgPool2d(output_size=(1, 1))\n  (fc): Linear(in_features=1024, out_features=800, bias=True)\n)\n"
     ]
    }
   ],
   "source": [
    "mynet = darkNet19NoMaxPool(800)\n",
    "print(mynet)"
   ]
  },
  {
   "cell_type": "code",
   "execution_count": null,
   "metadata": {},
   "outputs": [],
   "source": []
  }
 ]
}